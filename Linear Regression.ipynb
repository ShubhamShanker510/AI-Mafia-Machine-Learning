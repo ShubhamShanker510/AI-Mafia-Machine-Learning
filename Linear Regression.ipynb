{
 "cells": [
  {
   "cell_type": "code",
   "execution_count": 1,
   "metadata": {},
   "outputs": [],
   "source": [
    "import numpy as np\n",
    "import pandas as pd\n",
    "import matplotlib.pyplot as plt\n"
   ]
  },
  {
   "cell_type": "code",
   "execution_count": 16,
   "metadata": {},
   "outputs": [
    {
     "name": "stdout",
     "output_type": "stream",
     "text": [
      "[[ 8. ]\n",
      " [ 9.1]\n",
      " [ 8.4]\n",
      " [ 6.9]\n",
      " [ 7.7]\n",
      " [15.6]\n",
      " [ 7.3]\n",
      " [ 7. ]\n",
      " [ 7.2]\n",
      " [10.1]\n",
      " [11.5]\n",
      " [ 7.1]\n",
      " [10. ]\n",
      " [ 8.9]\n",
      " [ 7.9]\n",
      " [ 5.6]\n",
      " [ 6.3]\n",
      " [ 6.7]\n",
      " [10.4]\n",
      " [ 8.5]\n",
      " [ 7.4]\n",
      " [ 6.3]\n",
      " [ 5.4]\n",
      " [ 8.9]\n",
      " [ 9.4]\n",
      " [ 7.5]\n",
      " [11.9]\n",
      " [ 7.8]\n",
      " [ 7.4]\n",
      " [10.8]\n",
      " [10.2]\n",
      " [ 6.2]\n",
      " [ 7.7]\n",
      " [13.7]\n",
      " [ 8. ]\n",
      " [ 6.7]\n",
      " [ 6.7]\n",
      " [ 7. ]\n",
      " [ 8.3]\n",
      " [ 7.4]\n",
      " [ 9.9]\n",
      " [ 6.1]\n",
      " [ 7. ]\n",
      " [ 5.4]\n",
      " [10.7]\n",
      " [ 7.6]\n",
      " [ 8.9]\n",
      " [ 9.2]\n",
      " [ 6.6]\n",
      " [ 7.2]\n",
      " [ 8. ]\n",
      " [ 7.8]\n",
      " [ 7.9]\n",
      " [ 7. ]\n",
      " [ 7. ]\n",
      " [ 7.6]\n",
      " [ 9.1]\n",
      " [ 9. ]\n",
      " [ 7.9]\n",
      " [ 6.6]\n",
      " [11.9]\n",
      " [ 6.5]\n",
      " [ 7.1]\n",
      " [ 8.8]\n",
      " [ 7.5]\n",
      " [ 7.7]\n",
      " [ 6. ]\n",
      " [10.6]\n",
      " [ 6.6]\n",
      " [ 8.2]\n",
      " [ 7.9]\n",
      " [ 7.1]\n",
      " [ 5.6]\n",
      " [ 6.4]\n",
      " [ 7.5]\n",
      " [ 9.8]\n",
      " [ 7. ]\n",
      " [10.5]\n",
      " [ 7.1]\n",
      " [ 6.2]\n",
      " [ 6.5]\n",
      " [ 7.7]\n",
      " [ 7.2]\n",
      " [ 9.3]\n",
      " [ 8.5]\n",
      " [ 7.7]\n",
      " [ 6.8]\n",
      " [ 7.8]\n",
      " [ 8.7]\n",
      " [ 9.6]\n",
      " [ 7.2]\n",
      " [ 9.3]\n",
      " [ 8.1]\n",
      " [ 6.6]\n",
      " [ 7.8]\n",
      " [10.2]\n",
      " [ 6.1]\n",
      " [ 7.3]\n",
      " [ 7.3]]\n"
     ]
    }
   ],
   "source": [
    "dfx=pd.read_csv('./linearX.csv')\n",
    "dfy=pd.read_csv('./linearY.csv')\n",
    "\n",
    "dfx=dfx.values\n",
    "dfy=dfy.values\n",
    "\n",
    "x=dfx.reshape((-1,))\n",
    "y=dfy.reshape((-1,))\n",
    "print(dfx)"
   ]
  },
  {
   "cell_type": "markdown",
   "metadata": {},
   "source": [
    "# Visualize and preprocess"
   ]
  },
  {
   "cell_type": "code",
   "execution_count": 45,
   "metadata": {},
   "outputs": [
    {
     "data": {
      "image/png": "[encoded data removed]",
      "text/plain": [
       "<Figure size 432x288 with 1 Axes>"
      ]
     },
     "metadata": {
      "needs_background": "light"
     },
     "output_type": "display_data"
    }
   ],
   "source": [
    "plt.scatter(x,y)\n",
    "X= (x-x.mean())/x.std()\n",
    "Y = y\n",
    "plt.scatter(X,Y)\n",
    "plt.show()\n"
   ]
  },
  {
   "cell_type": "code",
   "execution_count": 46,
   "metadata": {},
   "outputs": [
    {
     "data": {
      "image/png": "[encoded data removed]",
      "text/plain": [
       "<Figure size 432x288 with 1 Axes>"
      ]
     },
     "metadata": {
      "needs_background": "light"
     },
     "output_type": "display_data"
    }
   ],
   "source": [
    "plt.scatter(X,Y)\n",
    "plt.show()"
   ]
  },
  {
   "cell_type": "markdown",
   "metadata": {},
   "source": [
    "# Gradiant Descent Algorithm"
   ]
  },
  {
   "cell_type": "code",
   "execution_count": 29,
   "metadata": {},
   "outputs": [],
   "source": [
    "def hypothesis(x,theta):\n",
    "    return theta[0]+theta[1]*x"
   ]
  },
  {
   "cell_type": "code",
   "execution_count": 30,
   "metadata": {},
   "outputs": [],
   "source": [
    "def error(x,y,theta):\n",
    "    m=x.shape[0]\n",
    "    error=0\n",
    "    for i in range(m):\n",
    "        hx=hypothesis(x[i],theta)\n",
    "        error+=(hx-y[i])**2\n",
    "    return error\n",
    "        "
   ]
  },
  {
   "cell_type": "code",
   "execution_count": 31,
   "metadata": {},
   "outputs": [],
   "source": [
    "def gradiant(x,y,theta):\n",
    "    \n",
    "    grad=np.zeros((2,))\n",
    "    m=x.shape[0]\n",
    "    for i in range(m):\n",
    "        hx=hypothesis(x[i],theta)\n",
    "        grad[0]+=(hx-y[i])\n",
    "        grad[1]+=(hx-y[i])*x[i]\n",
    "        \n",
    "    return grad"
   ]
  },
  {
   "cell_type": "code",
   "execution_count": 36,
   "metadata": {},
   "outputs": [],
   "source": [
    "def gradiantDescent(x,y,learning_rate=0.001):\n",
    "    \n",
    "    #random theta\n",
    "    theta=np.array((-2.0, 0.0))\n",
    "    \n",
    "    max_iteration=100\n",
    "    itr=0\n",
    "    \n",
    "    error_list=[]\n",
    "    theta_list=[]\n",
    "    while(itr<=max_iteration):\n",
    "        grad=gradiant(x,y,theta)\n",
    "        e=error(x,y,theta)\n",
    "        error_list.append(e)\n",
    "        theta_list.append((theta[0],theta[1]))\n",
    "        theta[0]-=learning_rate*grad[0]\n",
    "        theta[1]-=learning_rate*grad[1]\n",
    "        \n",
    "        itr+=1\n",
    "    return theta,error_list,theta_list"
   ]
  },
  {
   "cell_type": "code",
   "execution_count": 37,
   "metadata": {},
   "outputs": [],
   "source": [
    "final_theta,error_list,theta_list=gradiantDescent(x,y)"
   ]
  },
  {
   "cell_type": "code",
   "execution_count": 38,
   "metadata": {},
   "outputs": [
    {
     "data": {
      "image/png": "[encoded data removed]",
      "text/plain": [
       "<Figure size 432x288 with 1 Axes>"
      ]
     },
     "metadata": {
      "needs_background": "light"
     },
     "output_type": "display_data"
    }
   ],
   "source": [
    "plt.plot(error_list)\n",
    "plt.show()"
   ]
  },
  {
   "cell_type": "code",
   "execution_count": 39,
   "metadata": {},
   "outputs": [
    {
     "name": "stdout",
     "output_type": "stream",
     "text": [
      "[6.16408841e+75 5.18846610e+76]\n"
     ]
    }
   ],
   "source": [
    "print(final_theta)"
   ]
  },
  {
   "cell_type": "code",
   "execution_count": 40,
   "metadata": {},
   "outputs": [
    {
     "name": "stdout",
     "output_type": "stream",
     "text": [
      "[-2.         -1.11111111 -0.22222222  0.66666667  1.55555556  2.44444444\n",
      "  3.33333333  4.22222222  5.11111111  6.        ]\n"
     ]
    }
   ],
   "source": [
    "#plot the line for testing data\n",
    "\n",
    "xtest=np.linspace(-2,6,10)\n",
    "print(xtest)"
   ]
  },
  {
   "cell_type": "code",
   "execution_count": 44,
   "metadata": {},
   "outputs": [
    {
     "data": {
      "image/png": "[encoded data removed]",
      "text/plain": [
       "<Figure size 432x288 with 1 Axes>"
      ]
     },
     "metadata": {
      "needs_background": "light"
     },
     "output_type": "display_data"
    }
   ],
   "source": [
    "plt.scatter(x,y,label='Training Data')\n",
    "plt.plot(xtest,hypothesis(xtest,final_theta),color='orange',label='prediciton')\n",
    "plt.legend()\n",
    "plt.show()"
   ]
  },
  {
   "cell_type": "code",
   "execution_count": null,
   "metadata": {},
   "outputs": [],
   "source": []
  }
 ],
 "metadata": {
  "kernelspec": {
   "display_name": "Python 3",
   "language": "python",
   "name": "python3"
  },
  "language_info": {
   "codemirror_mode": {
    "name": "ipython",
    "version": 3
   },
   "file_extension": ".py",
   "mimetype": "text/x-python",
   "name": "python",
   "nbconvert_exporter": "python",
   "pygments_lexer": "ipython3",
   "version": "3.8.3"
  }
 },
 "nbformat": 4,
 "nbformat_minor": 4
}
